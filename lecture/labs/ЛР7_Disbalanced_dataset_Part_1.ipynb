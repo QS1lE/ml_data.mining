{
 "cells": [
  {
   "cell_type": "markdown",
   "metadata": {
    "_cell_guid": "3689760c-41f8-4a33-9c96-3fd17803950e",
    "_uuid": "3e0ad409d438c7c68ea6a76700a1e964a357453f",
    "id": "nWEVPTflJsmY"
   },
   "source": [
    "<h1 align=\"center\"> Credit card Fraud Detector </h1>\n",
    "\n",
    "\n",
    "<h2> Введение </h2>\n",
    "\n",
    "На данной практие (и еще на парочке занятий потом) мы будем реализовывать различные прогностические модели, чтобы проверить, насколько точно они определяют, является ли транзакция обычным платежом (non Fraud) или мошенничеством (Fraud).\n",
    "\n",
    "<h4> По мотивам кейса, рассмотренного в Зимней школе СберУнивера </h4>\n",
    "\n",
    "<h2> Наши цели: </h2>\n",
    "<ul>\n",
    "<li> Проанализировать полученные данные. </li>\n",
    "<li> Рассмотреть проблему сильного дисбаланса классов. </li>\n",
    "<li> Использовать алгоритмы кластеризации </li>\n",
    "<li> Использовать алгоритмы понижения размерности </li>\n"
   ]
  },
  {
   "cell_type": "markdown",
   "metadata": {
    "_cell_guid": "ae8dd7f3-80a7-4db9-a132-823b0e48c041",
    "_uuid": "c999e5f1ac81513263d83883008f2844209e9e07",
    "id": "D7PhRxUjJsme"
   },
   "source": [
    "## Описание данных и постановка задачи:\n",
    "**Задача:** Банкам, выпускающим кредитные карты, очень важно распознавать мошеннические операции с кредитными картами, чтобы с клиентов не взималась плата за товары, которые они не покупали.\n",
    "\n",
    "**Данные**: Набор данных содержит транзакции, совершенные по кредитным картам в сентябре 2013 года европейскими держателями карт.\n",
    "В этом наборе данных представлены транзакции, проведенные за два дня, где мы имеем 492 случаев мошенничества из 284 807 транзакций. Набор данных сильно несбалансирован, положительный класс (мошенники) составляет всего 0,172% от всех транзакций.\n",
    "\n",
    "Датасет содержит только числовые входные переменные, которые являются результатом преобразования PCA (метод главных компонент).\n",
    "\n",
    "Из-за вопросов конфиденциальности невозможно использовать исходные признаки и более подробную информацию о них. Характеристики V1, V2, ... V28 - это главные компоненты, полученные с помощью PCA, единственные характеристики, которые не были преобразованы с помощью PCA - это \"Time\" и \"Amount\". Столбец \"Time\" содержит секунды, прошедшие между каждой транзакцией и первой транзакцией в наборе данных. Столбец \"Amount\" - это сумма транзакции. Столбец \"Class\" является переменной отклика и принимает значение 1 в случае мошенничества и 0 в противном случае.\n",
    "\n",
    "\n",
    "\n"
   ]
  },
  {
   "cell_type": "code",
   "execution_count": 2,
   "metadata": {
    "_cell_guid": "b1076dfc-b9ad-4769-8c92-a6c4dae69d19",
    "_uuid": "8f2839f25d086af736a60e9eeb907d3b93b6e0e5",
    "id": "nEgat3WDJsme"
   },
   "outputs": [],
   "source": [
    "import numpy as np\n",
    "import pandas as pd\n",
    "import matplotlib.pyplot as plt\n",
    "%matplotlib inline\n",
    "\n",
    "\n",
    "import seaborn as sns\n",
    "import matplotlib.patches as mpatches\n",
    "import time\n",
    "\n",
    "import collections\n",
    "from collections import Counter\n",
    "\n",
    "import warnings\n",
    "warnings.filterwarnings(\"ignore\")"
   ]
  },
  {
   "cell_type": "markdown",
   "metadata": {
    "id": "IdXi1vTBSn8o"
   },
   "source": [
    "Подключимся к диску для загрузки данных.\n",
    "\n",
    "Загружаем данные:\n",
    "'creditcard.csv'"
   ]
  },
  {
   "cell_type": "code",
   "execution_count": 4,
   "metadata": {
    "colab": {
     "base_uri": "https://localhost:8080/"
    },
    "id": "98lYH3EKRPKB",
    "outputId": "0cc068ce-4a77-43cc-8402-98870dd9b193"
   },
   "outputs": [
    {
     "name": "stdout",
     "output_type": "stream",
     "text": [
      "Mounted at /content/drive\n"
     ]
    }
   ],
   "source": [
    "from google.colab import drive\n",
    "drive.mount('/content/drive')"
   ]
  },
  {
   "cell_type": "code",
   "execution_count": 5,
   "metadata": {
    "colab": {
     "base_uri": "https://localhost:8080/",
     "height": 255
    },
    "id": "fBpIWXyOQelq",
    "outputId": "9412a4ba-c3e9-44c9-ab91-e5778e6158b2"
   },
   "outputs": [
    {
     "data": {
      "application/vnd.google.colaboratory.intrinsic+json": {
       "type": "dataframe",
       "variable_name": "df"
      },
      "text/html": [
       "\n",
       "  <div id=\"df-4d5bb432-74a9-4f98-82e7-0f54ff0310d4\" class=\"colab-df-container\">\n",
       "    <div>\n",
       "<style scoped>\n",
       "    .dataframe tbody tr th:only-of-type {\n",
       "        vertical-align: middle;\n",
       "    }\n",
       "\n",
       "    .dataframe tbody tr th {\n",
       "        vertical-align: top;\n",
       "    }\n",
       "\n",
       "    .dataframe thead th {\n",
       "        text-align: right;\n",
       "    }\n",
       "</style>\n",
       "<table border=\"1\" class=\"dataframe\">\n",
       "  <thead>\n",
       "    <tr style=\"text-align: right;\">\n",
       "      <th></th>\n",
       "      <th>Time</th>\n",
       "      <th>V1</th>\n",
       "      <th>V2</th>\n",
       "      <th>V3</th>\n",
       "      <th>V4</th>\n",
       "      <th>V5</th>\n",
       "      <th>V6</th>\n",
       "      <th>V7</th>\n",
       "      <th>V8</th>\n",
       "      <th>V9</th>\n",
       "      <th>...</th>\n",
       "      <th>V21</th>\n",
       "      <th>V22</th>\n",
       "      <th>V23</th>\n",
       "      <th>V24</th>\n",
       "      <th>V25</th>\n",
       "      <th>V26</th>\n",
       "      <th>V27</th>\n",
       "      <th>V28</th>\n",
       "      <th>Amount</th>\n",
       "      <th>Class</th>\n",
       "    </tr>\n",
       "  </thead>\n",
       "  <tbody>\n",
       "    <tr>\n",
       "      <th>0</th>\n",
       "      <td>0.0</td>\n",
       "      <td>-1.359807</td>\n",
       "      <td>-0.072781</td>\n",
       "      <td>2.536347</td>\n",
       "      <td>1.378155</td>\n",
       "      <td>-0.338321</td>\n",
       "      <td>0.462388</td>\n",
       "      <td>0.239599</td>\n",
       "      <td>0.098698</td>\n",
       "      <td>0.363787</td>\n",
       "      <td>...</td>\n",
       "      <td>-0.018307</td>\n",
       "      <td>0.277838</td>\n",
       "      <td>-0.110474</td>\n",
       "      <td>0.066928</td>\n",
       "      <td>0.128539</td>\n",
       "      <td>-0.189115</td>\n",
       "      <td>0.133558</td>\n",
       "      <td>-0.021053</td>\n",
       "      <td>149.62</td>\n",
       "      <td>0</td>\n",
       "    </tr>\n",
       "    <tr>\n",
       "      <th>1</th>\n",
       "      <td>0.0</td>\n",
       "      <td>1.191857</td>\n",
       "      <td>0.266151</td>\n",
       "      <td>0.166480</td>\n",
       "      <td>0.448154</td>\n",
       "      <td>0.060018</td>\n",
       "      <td>-0.082361</td>\n",
       "      <td>-0.078803</td>\n",
       "      <td>0.085102</td>\n",
       "      <td>-0.255425</td>\n",
       "      <td>...</td>\n",
       "      <td>-0.225775</td>\n",
       "      <td>-0.638672</td>\n",
       "      <td>0.101288</td>\n",
       "      <td>-0.339846</td>\n",
       "      <td>0.167170</td>\n",
       "      <td>0.125895</td>\n",
       "      <td>-0.008983</td>\n",
       "      <td>0.014724</td>\n",
       "      <td>2.69</td>\n",
       "      <td>0</td>\n",
       "    </tr>\n",
       "    <tr>\n",
       "      <th>2</th>\n",
       "      <td>1.0</td>\n",
       "      <td>-1.358354</td>\n",
       "      <td>-1.340163</td>\n",
       "      <td>1.773209</td>\n",
       "      <td>0.379780</td>\n",
       "      <td>-0.503198</td>\n",
       "      <td>1.800499</td>\n",
       "      <td>0.791461</td>\n",
       "      <td>0.247676</td>\n",
       "      <td>-1.514654</td>\n",
       "      <td>...</td>\n",
       "      <td>0.247998</td>\n",
       "      <td>0.771679</td>\n",
       "      <td>0.909412</td>\n",
       "      <td>-0.689281</td>\n",
       "      <td>-0.327642</td>\n",
       "      <td>-0.139097</td>\n",
       "      <td>-0.055353</td>\n",
       "      <td>-0.059752</td>\n",
       "      <td>378.66</td>\n",
       "      <td>0</td>\n",
       "    </tr>\n",
       "    <tr>\n",
       "      <th>3</th>\n",
       "      <td>1.0</td>\n",
       "      <td>-0.966272</td>\n",
       "      <td>-0.185226</td>\n",
       "      <td>1.792993</td>\n",
       "      <td>-0.863291</td>\n",
       "      <td>-0.010309</td>\n",
       "      <td>1.247203</td>\n",
       "      <td>0.237609</td>\n",
       "      <td>0.377436</td>\n",
       "      <td>-1.387024</td>\n",
       "      <td>...</td>\n",
       "      <td>-0.108300</td>\n",
       "      <td>0.005274</td>\n",
       "      <td>-0.190321</td>\n",
       "      <td>-1.175575</td>\n",
       "      <td>0.647376</td>\n",
       "      <td>-0.221929</td>\n",
       "      <td>0.062723</td>\n",
       "      <td>0.061458</td>\n",
       "      <td>123.50</td>\n",
       "      <td>0</td>\n",
       "    </tr>\n",
       "    <tr>\n",
       "      <th>4</th>\n",
       "      <td>2.0</td>\n",
       "      <td>-1.158233</td>\n",
       "      <td>0.877737</td>\n",
       "      <td>1.548718</td>\n",
       "      <td>0.403034</td>\n",
       "      <td>-0.407193</td>\n",
       "      <td>0.095921</td>\n",
       "      <td>0.592941</td>\n",
       "      <td>-0.270533</td>\n",
       "      <td>0.817739</td>\n",
       "      <td>...</td>\n",
       "      <td>-0.009431</td>\n",
       "      <td>0.798278</td>\n",
       "      <td>-0.137458</td>\n",
       "      <td>0.141267</td>\n",
       "      <td>-0.206010</td>\n",
       "      <td>0.502292</td>\n",
       "      <td>0.219422</td>\n",
       "      <td>0.215153</td>\n",
       "      <td>69.99</td>\n",
       "      <td>0</td>\n",
       "    </tr>\n",
       "  </tbody>\n",
       "</table>\n",
       "<p>5 rows × 31 columns</p>\n",
       "</div>\n",
       "    <div class=\"colab-df-buttons\">\n",
       "\n",
       "  <div class=\"colab-df-container\">\n",
       "    <button class=\"colab-df-convert\" onclick=\"convertToInteractive('df-4d5bb432-74a9-4f98-82e7-0f54ff0310d4')\"\n",
       "            title=\"Convert this dataframe to an interactive table.\"\n",
       "            style=\"display:none;\">\n",
       "\n",
       "  <svg xmlns=\"http://www.w3.org/2000/svg\" height=\"24px\" viewBox=\"0 -960 960 960\">\n",
       "    <path d=\"M120-120v-720h720v720H120Zm60-500h600v-160H180v160Zm220 220h160v-160H400v160Zm0 220h160v-160H400v160ZM180-400h160v-160H180v160Zm440 0h160v-160H620v160ZM180-180h160v-160H180v160Zm440 0h160v-160H620v160Z\"/>\n",
       "  </svg>\n",
       "    </button>\n",
       "\n",
       "  <style>\n",
       "    .colab-df-container {\n",
       "      display:flex;\n",
       "      gap: 12px;\n",
       "    }\n",
       "\n",
       "    .colab-df-convert {\n",
       "      background-color: #E8F0FE;\n",
       "      border: none;\n",
       "      border-radius: 50%;\n",
       "      cursor: pointer;\n",
       "      display: none;\n",
       "      fill: #1967D2;\n",
       "      height: 32px;\n",
       "      padding: 0 0 0 0;\n",
       "      width: 32px;\n",
       "    }\n",
       "\n",
       "    .colab-df-convert:hover {\n",
       "      background-color: #E2EBFA;\n",
       "      box-shadow: 0px 1px 2px rgba(60, 64, 67, 0.3), 0px 1px 3px 1px rgba(60, 64, 67, 0.15);\n",
       "      fill: #174EA6;\n",
       "    }\n",
       "\n",
       "    .colab-df-buttons div {\n",
       "      margin-bottom: 4px;\n",
       "    }\n",
       "\n",
       "    [theme=dark] .colab-df-convert {\n",
       "      background-color: #3B4455;\n",
       "      fill: #D2E3FC;\n",
       "    }\n",
       "\n",
       "    [theme=dark] .colab-df-convert:hover {\n",
       "      background-color: #434B5C;\n",
       "      box-shadow: 0px 1px 3px 1px rgba(0, 0, 0, 0.15);\n",
       "      filter: drop-shadow(0px 1px 2px rgba(0, 0, 0, 0.3));\n",
       "      fill: #FFFFFF;\n",
       "    }\n",
       "  </style>\n",
       "\n",
       "    <script>\n",
       "      const buttonEl =\n",
       "        document.querySelector('#df-4d5bb432-74a9-4f98-82e7-0f54ff0310d4 button.colab-df-convert');\n",
       "      buttonEl.style.display =\n",
       "        google.colab.kernel.accessAllowed ? 'block' : 'none';\n",
       "\n",
       "      async function convertToInteractive(key) {\n",
       "        const element = document.querySelector('#df-4d5bb432-74a9-4f98-82e7-0f54ff0310d4');\n",
       "        const dataTable =\n",
       "          await google.colab.kernel.invokeFunction('convertToInteractive',\n",
       "                                                    [key], {});\n",
       "        if (!dataTable) return;\n",
       "\n",
       "        const docLinkHtml = 'Like what you see? Visit the ' +\n",
       "          '<a target=\"_blank\" href=https://colab.research.google.com/notebooks/data_table.ipynb>data table notebook</a>'\n",
       "          + ' to learn more about interactive tables.';\n",
       "        element.innerHTML = '';\n",
       "        dataTable['output_type'] = 'display_data';\n",
       "        await google.colab.output.renderOutput(dataTable, element);\n",
       "        const docLink = document.createElement('div');\n",
       "        docLink.innerHTML = docLinkHtml;\n",
       "        element.appendChild(docLink);\n",
       "      }\n",
       "    </script>\n",
       "  </div>\n",
       "\n",
       "\n",
       "<div id=\"df-8bbdd9c0-0955-487f-b225-ddeb9fb564f1\">\n",
       "  <button class=\"colab-df-quickchart\" onclick=\"quickchart('df-8bbdd9c0-0955-487f-b225-ddeb9fb564f1')\"\n",
       "            title=\"Suggest charts\"\n",
       "            style=\"display:none;\">\n",
       "\n",
       "<svg xmlns=\"http://www.w3.org/2000/svg\" height=\"24px\"viewBox=\"0 0 24 24\"\n",
       "     width=\"24px\">\n",
       "    <g>\n",
       "        <path d=\"M19 3H5c-1.1 0-2 .9-2 2v14c0 1.1.9 2 2 2h14c1.1 0 2-.9 2-2V5c0-1.1-.9-2-2-2zM9 17H7v-7h2v7zm4 0h-2V7h2v10zm4 0h-2v-4h2v4z\"/>\n",
       "    </g>\n",
       "</svg>\n",
       "  </button>\n",
       "\n",
       "<style>\n",
       "  .colab-df-quickchart {\n",
       "      --bg-color: #E8F0FE;\n",
       "      --fill-color: #1967D2;\n",
       "      --hover-bg-color: #E2EBFA;\n",
       "      --hover-fill-color: #174EA6;\n",
       "      --disabled-fill-color: #AAA;\n",
       "      --disabled-bg-color: #DDD;\n",
       "  }\n",
       "\n",
       "  [theme=dark] .colab-df-quickchart {\n",
       "      --bg-color: #3B4455;\n",
       "      --fill-color: #D2E3FC;\n",
       "      --hover-bg-color: #434B5C;\n",
       "      --hover-fill-color: #FFFFFF;\n",
       "      --disabled-bg-color: #3B4455;\n",
       "      --disabled-fill-color: #666;\n",
       "  }\n",
       "\n",
       "  .colab-df-quickchart {\n",
       "    background-color: var(--bg-color);\n",
       "    border: none;\n",
       "    border-radius: 50%;\n",
       "    cursor: pointer;\n",
       "    display: none;\n",
       "    fill: var(--fill-color);\n",
       "    height: 32px;\n",
       "    padding: 0;\n",
       "    width: 32px;\n",
       "  }\n",
       "\n",
       "  .colab-df-quickchart:hover {\n",
       "    background-color: var(--hover-bg-color);\n",
       "    box-shadow: 0 1px 2px rgba(60, 64, 67, 0.3), 0 1px 3px 1px rgba(60, 64, 67, 0.15);\n",
       "    fill: var(--button-hover-fill-color);\n",
       "  }\n",
       "\n",
       "  .colab-df-quickchart-complete:disabled,\n",
       "  .colab-df-quickchart-complete:disabled:hover {\n",
       "    background-color: var(--disabled-bg-color);\n",
       "    fill: var(--disabled-fill-color);\n",
       "    box-shadow: none;\n",
       "  }\n",
       "\n",
       "  .colab-df-spinner {\n",
       "    border: 2px solid var(--fill-color);\n",
       "    border-color: transparent;\n",
       "    border-bottom-color: var(--fill-color);\n",
       "    animation:\n",
       "      spin 1s steps(1) infinite;\n",
       "  }\n",
       "\n",
       "  @keyframes spin {\n",
       "    0% {\n",
       "      border-color: transparent;\n",
       "      border-bottom-color: var(--fill-color);\n",
       "      border-left-color: var(--fill-color);\n",
       "    }\n",
       "    20% {\n",
       "      border-color: transparent;\n",
       "      border-left-color: var(--fill-color);\n",
       "      border-top-color: var(--fill-color);\n",
       "    }\n",
       "    30% {\n",
       "      border-color: transparent;\n",
       "      border-left-color: var(--fill-color);\n",
       "      border-top-color: var(--fill-color);\n",
       "      border-right-color: var(--fill-color);\n",
       "    }\n",
       "    40% {\n",
       "      border-color: transparent;\n",
       "      border-right-color: var(--fill-color);\n",
       "      border-top-color: var(--fill-color);\n",
       "    }\n",
       "    60% {\n",
       "      border-color: transparent;\n",
       "      border-right-color: var(--fill-color);\n",
       "    }\n",
       "    80% {\n",
       "      border-color: transparent;\n",
       "      border-right-color: var(--fill-color);\n",
       "      border-bottom-color: var(--fill-color);\n",
       "    }\n",
       "    90% {\n",
       "      border-color: transparent;\n",
       "      border-bottom-color: var(--fill-color);\n",
       "    }\n",
       "  }\n",
       "</style>\n",
       "\n",
       "  <script>\n",
       "    async function quickchart(key) {\n",
       "      const quickchartButtonEl =\n",
       "        document.querySelector('#' + key + ' button');\n",
       "      quickchartButtonEl.disabled = true;  // To prevent multiple clicks.\n",
       "      quickchartButtonEl.classList.add('colab-df-spinner');\n",
       "      try {\n",
       "        const charts = await google.colab.kernel.invokeFunction(\n",
       "            'suggestCharts', [key], {});\n",
       "      } catch (error) {\n",
       "        console.error('Error during call to suggestCharts:', error);\n",
       "      }\n",
       "      quickchartButtonEl.classList.remove('colab-df-spinner');\n",
       "      quickchartButtonEl.classList.add('colab-df-quickchart-complete');\n",
       "    }\n",
       "    (() => {\n",
       "      let quickchartButtonEl =\n",
       "        document.querySelector('#df-8bbdd9c0-0955-487f-b225-ddeb9fb564f1 button');\n",
       "      quickchartButtonEl.style.display =\n",
       "        google.colab.kernel.accessAllowed ? 'block' : 'none';\n",
       "    })();\n",
       "  </script>\n",
       "</div>\n",
       "    </div>\n",
       "  </div>\n"
      ],
      "text/plain": [
       "   Time        V1        V2        V3        V4        V5        V6        V7  \\\n",
       "0   0.0 -1.359807 -0.072781  2.536347  1.378155 -0.338321  0.462388  0.239599   \n",
       "1   0.0  1.191857  0.266151  0.166480  0.448154  0.060018 -0.082361 -0.078803   \n",
       "2   1.0 -1.358354 -1.340163  1.773209  0.379780 -0.503198  1.800499  0.791461   \n",
       "3   1.0 -0.966272 -0.185226  1.792993 -0.863291 -0.010309  1.247203  0.237609   \n",
       "4   2.0 -1.158233  0.877737  1.548718  0.403034 -0.407193  0.095921  0.592941   \n",
       "\n",
       "         V8        V9  ...       V21       V22       V23       V24       V25  \\\n",
       "0  0.098698  0.363787  ... -0.018307  0.277838 -0.110474  0.066928  0.128539   \n",
       "1  0.085102 -0.255425  ... -0.225775 -0.638672  0.101288 -0.339846  0.167170   \n",
       "2  0.247676 -1.514654  ...  0.247998  0.771679  0.909412 -0.689281 -0.327642   \n",
       "3  0.377436 -1.387024  ... -0.108300  0.005274 -0.190321 -1.175575  0.647376   \n",
       "4 -0.270533  0.817739  ... -0.009431  0.798278 -0.137458  0.141267 -0.206010   \n",
       "\n",
       "        V26       V27       V28  Amount  Class  \n",
       "0 -0.189115  0.133558 -0.021053  149.62      0  \n",
       "1  0.125895 -0.008983  0.014724    2.69      0  \n",
       "2 -0.139097 -0.055353 -0.059752  378.66      0  \n",
       "3 -0.221929  0.062723  0.061458  123.50      0  \n",
       "4  0.502292  0.219422  0.215153   69.99      0  \n",
       "\n",
       "[5 rows x 31 columns]"
      ]
     },
     "execution_count": 5,
     "metadata": {},
     "output_type": "execute_result"
    }
   ],
   "source": [
    "# загрузка данных и структура данных\n",
    "df=pd.read_csv('/content/drive/MyDrive/data/for_ML/creditcard.csv')\n",
    "\n",
    "df.head()"
   ]
  },
  {
   "cell_type": "markdown",
   "metadata": {
    "id": "BGI5e48pS0M6"
   },
   "source": [
    "Небольшой описательный анализ, используя метод describe()"
   ]
  },
  {
   "cell_type": "code",
   "execution_count": null,
   "metadata": {
    "_cell_guid": "376ce881-463a-4a09-9ac0-c63f85577eec",
    "_kg_hide-input": true,
    "_uuid": "93031e732e5aca3a2b4984799d6bf58d76e4b52d",
    "id": "LHki6q6GJsmh"
   },
   "outputs": [],
   "source": [
    "# анализ данных\n"
   ]
  },
  {
   "cell_type": "markdown",
   "metadata": {
    "id": "ecQV-SvgS4S-"
   },
   "source": [
    "Проверим на наличие пропусков в данных."
   ]
  },
  {
   "cell_type": "code",
   "execution_count": null,
   "metadata": {
    "_cell_guid": "03ddb929-5bc8-4af4-90cd-21dcbb57560d",
    "_kg_hide-input": true,
    "_uuid": "38bec67888aa534e9739e95ef9fac62d27a87021",
    "id": "rk2DLdT7Jsmi"
   },
   "outputs": [],
   "source": [
    "# проверка наличия пропусков в данных"
   ]
  },
  {
   "cell_type": "markdown",
   "metadata": {
    "id": "XFRHvdF0S7-5"
   },
   "source": [
    "\n",
    "Пропусков нет?\n",
    "\n",
    "Выведем названия столбцов."
   ]
  },
  {
   "cell_type": "code",
   "execution_count": null,
   "metadata": {
    "_cell_guid": "6a526b6c-8463-4f6f-92b0-e8a3a21cbb2e",
    "_kg_hide-input": true,
    "_uuid": "479a5f12d3dd68262316a17b4b7b3499e0a2cbe0",
    "id": "eJencL-dJsmj"
   },
   "outputs": [],
   "source": [
    "# названия столбцов"
   ]
  },
  {
   "cell_type": "markdown",
   "metadata": {
    "id": "vjX0WilXTAE6"
   },
   "source": [
    "Еще раз оценим отношение классов целевой переменной."
   ]
  },
  {
   "cell_type": "code",
   "execution_count": null,
   "metadata": {
    "_cell_guid": "01c007fa-0fcc-4eea-84ff-0861a2f8c533",
    "_kg_hide-input": true,
    "_uuid": "f6b96ff34855e3bf7af1f6979342b01c473e4e07",
    "id": "a2JlGabjJsmj"
   },
   "outputs": [],
   "source": [
    "# вывод на печать 'Обычные транзакции составляют' и 'Мошеннические транзакции составляют' в процентном соотношении"
   ]
  },
  {
   "cell_type": "code",
   "execution_count": null,
   "metadata": {
    "id": "IO3gKPmCzYGU"
   },
   "outputs": [],
   "source": [
    "# df['Class'].value_counts()  - возвращает словарик,\n",
    "# где ключ - уникальные значения в столбце Class кол-во значений\n",
    "# value - сколько всего записей имело эти значения\n",
    "\n",
    "\n",
    "# так как это словарь, то чтобы получить значения, обращаемся по ключу:\n"
   ]
  },
  {
   "cell_type": "code",
   "execution_count": 9,
   "metadata": {
    "colab": {
     "base_uri": "https://localhost:8080/"
    },
    "id": "3GetbkPAy8E9",
    "outputId": "83d64ae6-881d-4265-d061-9e5ad65d1831"
   },
   "outputs": [
    {
     "name": "stdout",
     "output_type": "stream",
     "text": [
      "Обычные транзакции составляют  None % данных\n",
      "Мошеннические транзакции составляют  None % данных\n"
     ]
    }
   ],
   "source": [
    "#  вывод отношения классов целевой переменной, но записанный через f строку\n",
    "\n",
    "n_trans = None # ваш код здесь, вместо None запишите формулу\n",
    "f_trans = None # ваш код здесь, вместо None запишите формулу\n",
    "\n",
    "print(f'Обычные транзакции составляют  {n_trans} % данных')\n",
    "print(f'Мошеннические транзакции составляют  {f_trans} % данных')"
   ]
  },
  {
   "cell_type": "markdown",
   "metadata": {
    "_cell_guid": "558c9b60-3f52-4da5-92fa-9fc4acbdbb3a",
    "_uuid": "c2bb0945a312508e908386fc87adc227f0afe0e0",
    "id": "GKpMVbLaJsmk"
   },
   "source": [
    "**Важно!**\n",
    "\n",
    "Обратите внимание, насколько несбалансированным является наш исходный набор данных! Большинство транзакций не являются мошенническими. Если мы используем этот массив данных в качестве основы для наших моделей прогнозирования и анализа, мы можем получить много ошибок, поскольку наши алгоритмы будут предполагать, что все транзакции не являются мошенничеством. Нам же критически важно сконцентрироваться именно на мошенниках."
   ]
  },
  {
   "cell_type": "code",
   "execution_count": 10,
   "metadata": {
    "_cell_guid": "657bc987-4b15-4cfa-b290-c39a2632e2ac",
    "_kg_hide-input": true,
    "_uuid": "337caaf6ed3f65beedb24a74eebb22d97ff52ba4",
    "colab": {
     "base_uri": "https://localhost:8080/",
     "height": 492
    },
    "id": "dLG4p4rZJsmk",
    "outputId": "64fe3f35-4e95-43e5-d67c-8fcf7b325adb"
   },
   "outputs": [
    {
     "data": {
      "text/plain": [
       "Text(0.5, 1.0, 'Распределение классов \\n (0: Не мошенник || 1: Мошенник)')"
      ]
     },
     "execution_count": 10,
     "metadata": {},
     "output_type": "execute_result"
    },
    {
     "data": {
      "image/png": "[encoded data removed]",
      "text/plain": [
       "<Figure size 640x480 with 1 Axes>"
      ]
     },
     "metadata": {},
     "output_type": "display_data"
    }
   ],
   "source": [
    "colors = [\"#0101DF\", \"#DF0101\"]\n",
    "\n",
    " # строим гистограмму целевой переменной:\n",
    "\n",
    "\n",
    "plt.title('Распределение классов \\n (0: Не мошенник || 1: Мошенник)', fontsize=14)\n"
   ]
  },
  {
   "cell_type": "markdown",
   "metadata": {
    "_cell_guid": "3c9973d0-83bd-4b09-860e-c1f507f88310",
    "_uuid": "6894af2afdbfd5cd670d00b66f10ae49f1cab421",
    "id": "7tENu159Jsml"
   },
   "source": [
    "Построим распределения по суммам и времени транзакций."
   ]
  },
  {
   "cell_type": "code",
   "execution_count": 11,
   "metadata": {
    "_cell_guid": "cee315f2-325f-42b6-a640-736f10c272cc",
    "_kg_hide-input": true,
    "_uuid": "cfa51792bf6f8a6b318ae1bffcff4e922b1d1917",
    "colab": {
     "base_uri": "https://localhost:8080/",
     "height": 182
    },
    "id": "NgBjtAOzJsml",
    "outputId": "371d38f0-5398-40a4-98ec-f5f1df6433e9"
   },
   "outputs": [
    {
     "data": {
      "image/png": "[encoded data removed]",
      "text/plain": [
       "<Figure size 1800x400 with 2 Axes>"
      ]
     },
     "metadata": {},
     "output_type": "display_data"
    }
   ],
   "source": [
    "fig, ax = plt.subplots(1, 2, figsize=(18,4))\n",
    "\n",
    "amount_val = ...\n",
    "time_val = ...\n",
    "\n",
    "# ВАШ КОД ЗДЕСЬ # строим график распределения суммы транзакций\n",
    "\n",
    "\n",
    "# ВАШ КОД ЗДЕСЬ # строим график распределения времени транзакций\n",
    "\n",
    "plt.show()"
   ]
  },
  {
   "cell_type": "markdown",
   "metadata": {
    "_cell_guid": "72fdda5e-7f82-488d-a433-6157d6180bb8",
    "_uuid": "c5d6781e61c0ee84e72d26e8465bfd98ef91f3b9",
    "id": "9UArH5JzJsmm"
   },
   "source": [
    "### Масштабирование\n",
    "Первым делом нам необходимо отмасштабировать столбцы **Time** и **Amount**. Поскольку все остальные признаки уже отмасштабированы. Однако делать это нужно только строго **после** разбиения на обучающую выборку и тестовую.\n",
    "\n",
    "Затем необходимо создать подвыборку из наших данных, чтобы иметь равное количество случаев мошенничества и не мошенничества, что поможет нашим моделям лучше понять закономерности, определяющие, является ли транзакция мошенничеством или нет.\n",
    "\n",
    "### Зачем создавать подвыборку?\n",
    "Наши данные имеют сильный дисбаланс. Использование исходного датасета приведет к следующим проблемам:\n",
    "  - **Переобучение**: Наши модели классификации будут предполагать, что в большинстве случаев мошенничества не существует! Мы хотим, чтобы наша модель точно определяла, когда происходит мошенничество.\n",
    "  - **Неверные корреляции:** Хотя мы не знаем, что обозначают признаки \"V\", будет полезно понять, как каждый из этих признаков влияет на результат (мошенничество или отсутствие мошенничества), поскольку, имея несбалансированный набор данных, мы не можем увидеть истинные корреляции между целевой переменной и признаками."
   ]
  },
  {
   "cell_type": "markdown",
   "metadata": {
    "id": "CMu6V2KpWbWQ"
   },
   "source": [
    "### Разделение данных\n",
    "**Важно!**\n",
    "\n",
    "Прежде, чем приступить к балансировке наших данных, мы должны разделить исходный набор данных. Зачем?\n",
    "\n",
    "Для определения качества работы наших моделей их необходимо тестировать на **исходном** тестовом наборе, а не на тестовом наборе, созданном после балансировки. Цель балансировки заключается в том, чтобы модель смогла найти закономерности для принятия решения по типу транзакции, поэтому мы выравниваем соотношение между мошенническими транзакциями и обычными. Однако проверять качество мы будем именно в \"боевых\" условиях с учетом реального распределения данных.\n",
    "\n",
    "\n"
   ]
  },
  {
   "cell_type": "code",
   "execution_count": 12,
   "metadata": {
    "_cell_guid": "c6c962cc-6f38-4a00-bcd7-ce9d91db954c",
    "_kg_hide-input": true,
    "_uuid": "9f7b5d920703b3a3c8c0f62bc6042e4615bc8324",
    "colab": {
     "base_uri": "https://localhost:8080/",
     "height": 454
    },
    "id": "9BLq18V-Jsmn",
    "outputId": "0304e5d5-0e4e-44a1-82b9-164cc663b879"
   },
   "outputs": [
    {
     "name": "stdout",
     "output_type": "stream",
     "text": [
      "Тип данных original_Xtrain[\"Amount\"] <class 'pandas.core.series.Series'>\n",
      "Тип данных original_Xtrain[\"Amount\"].values <class 'numpy.ndarray'>\n",
      "Данные original_Xtrain[\"Amount\"].values [  9.99  45.9   11.99 ...   3.94   1.   113.  ]\n",
      "Тип данных original_Xtrain[\"Amount\"].values.reshape(-1,1) <class 'numpy.ndarray'>\n",
      "Данные original_Xtrain[\"Amount\"].values.reshape(-1,1) \n",
      "[[  9.99]\n",
      " [ 45.9 ]\n",
      " [ 11.99]\n",
      " ...\n",
      " [  3.94]\n",
      " [  1.  ]\n",
      " [113.  ]] \n",
      "\n"
     ]
    },
    {
     "ename": "TypeError",
     "evalue": "cannot unpack non-iterable ellipsis object",
     "output_type": "error",
     "traceback": [
      "\u001b[0;31m---------------------------------------------------------------------------\u001b[0m",
      "\u001b[0;31mTypeError\u001b[0m                                 Traceback (most recent call last)",
      "\u001b[0;32m<ipython-input-12-51c127b14b4b>\u001b[0m in \u001b[0;36m<cell line: 40>\u001b[0;34m()\u001b[0m\n\u001b[1;32m     38\u001b[0m \u001b[0;34m\u001b[0m\u001b[0m\n\u001b[1;32m     39\u001b[0m \u001b[0mtrain_unique_label\u001b[0m\u001b[0;34m,\u001b[0m \u001b[0mtrain_counts_label\u001b[0m \u001b[0;34m=\u001b[0m \u001b[0mnp\u001b[0m\u001b[0;34m.\u001b[0m\u001b[0munique\u001b[0m\u001b[0;34m(\u001b[0m\u001b[0moriginal_ytrain\u001b[0m\u001b[0;34m,\u001b[0m \u001b[0mreturn_counts\u001b[0m\u001b[0;34m=\u001b[0m\u001b[0;32mTrue\u001b[0m\u001b[0;34m)\u001b[0m\u001b[0;34m\u001b[0m\u001b[0;34m\u001b[0m\u001b[0m\n\u001b[0;32m---> 40\u001b[0;31m \u001b[0mtest_unique_label\u001b[0m\u001b[0;34m,\u001b[0m \u001b[0mtest_counts_label\u001b[0m \u001b[0;34m=\u001b[0m \u001b[0;34m...\u001b[0m\u001b[0;34m\u001b[0m\u001b[0;34m\u001b[0m\u001b[0m\n\u001b[0m\u001b[1;32m     41\u001b[0m \u001b[0;34m\u001b[0m\u001b[0m\n\u001b[1;32m     42\u001b[0m \u001b[0mprint\u001b[0m\u001b[0;34m(\u001b[0m\u001b[0;34m'Распределение классов: \\n'\u001b[0m\u001b[0;34m)\u001b[0m\u001b[0;34m\u001b[0m\u001b[0;34m\u001b[0m\u001b[0m\n",
      "\u001b[0;31mTypeError\u001b[0m: cannot unpack non-iterable ellipsis object"
     ]
    }
   ],
   "source": [
    "from sklearn.model_selection import train_test_split\n",
    "# Поскольку большая часть наших данных уже масштабирована, мы должны масштабировать столбцы,\n",
    "# которые остались (Amount и Time)\n",
    "from sklearn.preprocessing import RobustScaler\n",
    "\n",
    "rob_scaler = RobustScaler() # Менее чувствителен к выбросам, чем просто стандартизация\n",
    "\n",
    "X = df.drop('Class', axis=1)\n",
    "y = df['Class']\n",
    "\n",
    "original_Xtrain, original_Xtest, original_ytrain, original_ytest = train_test_split(X, y, test_size=0.2,\n",
    "                                                                                    random_state = 42)\n",
    "\n",
    "\n",
    "# Посмотрим, какие типы данных возвращаются после разделения:\n",
    "rt_tmp = original_Xtrain['Amount']\n",
    "print (f'Тип данных original_Xtrain[\"Amount\"] {type(rt_tmp)}')\n",
    "print (f'Тип данных original_Xtrain[\"Amount\"].values {type(rt_tmp.values)}')\n",
    "print (f'Данные original_Xtrain[\"Amount\"].values {rt_tmp.values}')\n",
    "print (f'Тип данных original_Xtrain[\"Amount\"].values.reshape(-1,1) {type(rt_tmp.values.reshape(-1,1))}')\n",
    "print (f'Данные original_Xtrain[\"Amount\"].values.reshape(-1,1) \\n{rt_tmp.values.reshape(-1,1)} \\n')\n",
    "\n",
    "# вот последнее представление - как раз то, что нужно для RobustScaler . Преобразовываем так все нужные столбцы.\n",
    "\n",
    "original_Xtrain['scaled_amount'] = rob_scaler.fit_transform(original_Xtrain['Amount'].values.reshape(-1,1))\n",
    "original_Xtest['scaled_amount'] = ...\n",
    "\n",
    "original_Xtrain['scaled_time'] = ...\n",
    "original_Xtest['scaled_time'] = ...\n",
    "\n",
    "original_Xtrain.drop(['Time','Amount'], axis=1, inplace=True)\n",
    "original_Xtest.drop(['Time','Amount'], axis=1, inplace=True)\n",
    "\n",
    "original_Xtrain = original_Xtrain.values\n",
    "original_Xtest = original_Xtest.values\n",
    "original_ytrain = original_ytrain.values\n",
    "original_ytest = original_ytest.values\n",
    "\n",
    "train_unique_label, train_counts_label = np.unique(original_ytrain, return_counts=True)\n",
    "test_unique_label, test_counts_label = ...\n",
    "\n",
    "print('Распределение классов: \\n')\n",
    "print(\"Обучающий набор:\", train_counts_label/ len(original_ytrain))\n",
    "print(\"Тестовый набор:\", test_counts_label/ len(original_ytest))"
   ]
  },
  {
   "cell_type": "markdown",
   "metadata": {
    "_cell_guid": "956d34b9-e562-4b70-a2f8-fbe060273a83",
    "_uuid": "cc554c4ffec656cb38d01c034f2cd338e1cb4565",
    "id": "o8U0kZNYJsmn"
   },
   "source": [
    "## Метод Random Under-Sampling\n",
    "\n",
    "Применим метод *Random Under-Sampling*, который случайным образом удаляет объекты доминирующего класса и выравнивает соотношение классов.\n",
    "\n",
    "#### Алгоритм:\n",
    "<ul>\n",
    "<li>Определяем степень несбалансированности (посчитали количество меток одного и другого класса выше)  </li>\n",
    "<li>Как только мы определим, сколько случаев считаются мошенническими операциями (Fraud = \"1\"), мы должны довести количество немошеннических операций до того же количества, что и мошеннических (мы хотим получить соотношение 50/50 между классами), то есть это в подвыборке будет 492 случая мошенничества и 492 случая немошеннических операций.  </li>\n",
    "<li> После применения этого метода мы получим подвыборку нашего набора данных с соотношением 50/50 в отношении наших классов. Наконец, не забудем <b>перемешать</b> наши данные для того, чтобы модели не зависили от порядка входных данных.</li>\n",
    "</ul>\n",
    "\n",
    "**Важно!**\n",
    "\n",
    "Основная проблема данного метода заключается в том, что мы рискуем тем, что наши модели классификации не будут работать так точно, как нам хотелось бы, поскольку происходит большая потеря информации (выделение всего 492 немошеннических транзакций из 284 315 немошеннических транзакций)."
   ]
  },
  {
   "cell_type": "code",
   "execution_count": 14,
   "metadata": {
    "_cell_guid": "f0acfc44-eb2a-4356-ad03-d0c12807acd7",
    "_kg_hide-input": true,
    "_uuid": "e3a2b89752681164f14c8273452fc66734d7f41b",
    "colab": {
     "base_uri": "https://localhost:8080/",
     "height": 255
    },
    "id": "68HsuTq5Jsmo",
    "outputId": "c2339ee2-cdc2-45d9-e65d-5f4645a71794"
   },
   "outputs": [
    {
     "data": {
      "application/vnd.google.colaboratory.intrinsic+json": {
       "type": "dataframe",
       "variable_name": "new_df"
      },
      "text/html": [
       "\n",
       "  <div id=\"df-b01b7bfd-35f4-47a8-9330-84984087f98d\" class=\"colab-df-container\">\n",
       "    <div>\n",
       "<style scoped>\n",
       "    .dataframe tbody tr th:only-of-type {\n",
       "        vertical-align: middle;\n",
       "    }\n",
       "\n",
       "    .dataframe tbody tr th {\n",
       "        vertical-align: top;\n",
       "    }\n",
       "\n",
       "    .dataframe thead th {\n",
       "        text-align: right;\n",
       "    }\n",
       "</style>\n",
       "<table border=\"1\" class=\"dataframe\">\n",
       "  <thead>\n",
       "    <tr style=\"text-align: right;\">\n",
       "      <th></th>\n",
       "      <th>Time</th>\n",
       "      <th>V1</th>\n",
       "      <th>V2</th>\n",
       "      <th>V3</th>\n",
       "      <th>V4</th>\n",
       "      <th>V5</th>\n",
       "      <th>V6</th>\n",
       "      <th>V7</th>\n",
       "      <th>V8</th>\n",
       "      <th>V9</th>\n",
       "      <th>...</th>\n",
       "      <th>V21</th>\n",
       "      <th>V22</th>\n",
       "      <th>V23</th>\n",
       "      <th>V24</th>\n",
       "      <th>V25</th>\n",
       "      <th>V26</th>\n",
       "      <th>V27</th>\n",
       "      <th>V28</th>\n",
       "      <th>Amount</th>\n",
       "      <th>Class</th>\n",
       "    </tr>\n",
       "  </thead>\n",
       "  <tbody>\n",
       "    <tr>\n",
       "      <th>255752</th>\n",
       "      <td>157380.0</td>\n",
       "      <td>0.692634</td>\n",
       "      <td>-2.266007</td>\n",
       "      <td>-0.866940</td>\n",
       "      <td>1.752985</td>\n",
       "      <td>-1.284549</td>\n",
       "      <td>-0.008724</td>\n",
       "      <td>0.158276</td>\n",
       "      <td>0.009030</td>\n",
       "      <td>0.754630</td>\n",
       "      <td>...</td>\n",
       "      <td>0.652014</td>\n",
       "      <td>0.526688</td>\n",
       "      <td>-0.392914</td>\n",
       "      <td>0.000291</td>\n",
       "      <td>-0.417081</td>\n",
       "      <td>-0.643725</td>\n",
       "      <td>-0.069721</td>\n",
       "      <td>0.066489</td>\n",
       "      <td>631.00</td>\n",
       "      <td>0</td>\n",
       "    </tr>\n",
       "    <tr>\n",
       "      <th>83053</th>\n",
       "      <td>59669.0</td>\n",
       "      <td>0.326007</td>\n",
       "      <td>1.286638</td>\n",
       "      <td>-2.007181</td>\n",
       "      <td>2.419675</td>\n",
       "      <td>-1.532902</td>\n",
       "      <td>-1.432803</td>\n",
       "      <td>-2.459530</td>\n",
       "      <td>0.617738</td>\n",
       "      <td>-1.125861</td>\n",
       "      <td>...</td>\n",
       "      <td>0.556895</td>\n",
       "      <td>0.169776</td>\n",
       "      <td>-0.174357</td>\n",
       "      <td>0.308061</td>\n",
       "      <td>0.710996</td>\n",
       "      <td>-0.231030</td>\n",
       "      <td>0.580495</td>\n",
       "      <td>0.300984</td>\n",
       "      <td>6.27</td>\n",
       "      <td>1</td>\n",
       "    </tr>\n",
       "    <tr>\n",
       "      <th>263564</th>\n",
       "      <td>161013.0</td>\n",
       "      <td>1.881191</td>\n",
       "      <td>-0.539376</td>\n",
       "      <td>-0.650759</td>\n",
       "      <td>1.492958</td>\n",
       "      <td>-0.008160</td>\n",
       "      <td>1.061452</td>\n",
       "      <td>-0.844053</td>\n",
       "      <td>0.374834</td>\n",
       "      <td>-0.160030</td>\n",
       "      <td>...</td>\n",
       "      <td>0.115390</td>\n",
       "      <td>0.065928</td>\n",
       "      <td>0.170670</td>\n",
       "      <td>-0.300133</td>\n",
       "      <td>-0.724339</td>\n",
       "      <td>2.252463</td>\n",
       "      <td>-0.190619</td>\n",
       "      <td>-0.070636</td>\n",
       "      <td>71.95</td>\n",
       "      <td>0</td>\n",
       "    </tr>\n",
       "    <tr>\n",
       "      <th>89190</th>\n",
       "      <td>62467.0</td>\n",
       "      <td>-5.344665</td>\n",
       "      <td>-0.285760</td>\n",
       "      <td>-3.835616</td>\n",
       "      <td>5.337048</td>\n",
       "      <td>-7.609909</td>\n",
       "      <td>3.874668</td>\n",
       "      <td>1.289630</td>\n",
       "      <td>0.201742</td>\n",
       "      <td>-3.003532</td>\n",
       "      <td>...</td>\n",
       "      <td>0.276011</td>\n",
       "      <td>1.342045</td>\n",
       "      <td>-1.016579</td>\n",
       "      <td>-0.071361</td>\n",
       "      <td>-0.335869</td>\n",
       "      <td>0.441044</td>\n",
       "      <td>1.520613</td>\n",
       "      <td>-1.115937</td>\n",
       "      <td>1402.16</td>\n",
       "      <td>1</td>\n",
       "    </tr>\n",
       "    <tr>\n",
       "      <th>191359</th>\n",
       "      <td>129222.0</td>\n",
       "      <td>1.177824</td>\n",
       "      <td>2.487103</td>\n",
       "      <td>-5.330608</td>\n",
       "      <td>5.324547</td>\n",
       "      <td>1.150243</td>\n",
       "      <td>-1.281843</td>\n",
       "      <td>-1.171994</td>\n",
       "      <td>0.413778</td>\n",
       "      <td>-2.659840</td>\n",
       "      <td>...</td>\n",
       "      <td>0.262325</td>\n",
       "      <td>-0.431790</td>\n",
       "      <td>-0.092088</td>\n",
       "      <td>0.145216</td>\n",
       "      <td>0.457788</td>\n",
       "      <td>0.167739</td>\n",
       "      <td>0.451243</td>\n",
       "      <td>0.268421</td>\n",
       "      <td>4.87</td>\n",
       "      <td>1</td>\n",
       "    </tr>\n",
       "  </tbody>\n",
       "</table>\n",
       "<p>5 rows × 31 columns</p>\n",
       "</div>\n",
       "    <div class=\"colab-df-buttons\">\n",
       "\n",
       "  <div class=\"colab-df-container\">\n",
       "    <button class=\"colab-df-convert\" onclick=\"convertToInteractive('df-b01b7bfd-35f4-47a8-9330-84984087f98d')\"\n",
       "            title=\"Convert this dataframe to an interactive table.\"\n",
       "            style=\"display:none;\">\n",
       "\n",
       "  <svg xmlns=\"http://www.w3.org/2000/svg\" height=\"24px\" viewBox=\"0 -960 960 960\">\n",
       "    <path d=\"M120-120v-720h720v720H120Zm60-500h600v-160H180v160Zm220 220h160v-160H400v160Zm0 220h160v-160H400v160ZM180-400h160v-160H180v160Zm440 0h160v-160H620v160ZM180-180h160v-160H180v160Zm440 0h160v-160H620v160Z\"/>\n",
       "  </svg>\n",
       "    </button>\n",
       "\n",
       "  <style>\n",
       "    .colab-df-container {\n",
       "      display:flex;\n",
       "      gap: 12px;\n",
       "    }\n",
       "\n",
       "    .colab-df-convert {\n",
       "      background-color: #E8F0FE;\n",
       "      border: none;\n",
       "      border-radius: 50%;\n",
       "      cursor: pointer;\n",
       "      display: none;\n",
       "      fill: #1967D2;\n",
       "      height: 32px;\n",
       "      padding: 0 0 0 0;\n",
       "      width: 32px;\n",
       "    }\n",
       "\n",
       "    .colab-df-convert:hover {\n",
       "      background-color: #E2EBFA;\n",
       "      box-shadow: 0px 1px 2px rgba(60, 64, 67, 0.3), 0px 1px 3px 1px rgba(60, 64, 67, 0.15);\n",
       "      fill: #174EA6;\n",
       "    }\n",
       "\n",
       "    .colab-df-buttons div {\n",
       "      margin-bottom: 4px;\n",
       "    }\n",
       "\n",
       "    [theme=dark] .colab-df-convert {\n",
       "      background-color: #3B4455;\n",
       "      fill: #D2E3FC;\n",
       "    }\n",
       "\n",
       "    [theme=dark] .colab-df-convert:hover {\n",
       "      background-color: #434B5C;\n",
       "      box-shadow: 0px 1px 3px 1px rgba(0, 0, 0, 0.15);\n",
       "      filter: drop-shadow(0px 1px 2px rgba(0, 0, 0, 0.3));\n",
       "      fill: #FFFFFF;\n",
       "    }\n",
       "  </style>\n",
       "\n",
       "    <script>\n",
       "      const buttonEl =\n",
       "        document.querySelector('#df-b01b7bfd-35f4-47a8-9330-84984087f98d button.colab-df-convert');\n",
       "      buttonEl.style.display =\n",
       "        google.colab.kernel.accessAllowed ? 'block' : 'none';\n",
       "\n",
       "      async function convertToInteractive(key) {\n",
       "        const element = document.querySelector('#df-b01b7bfd-35f4-47a8-9330-84984087f98d');\n",
       "        const dataTable =\n",
       "          await google.colab.kernel.invokeFunction('convertToInteractive',\n",
       "                                                    [key], {});\n",
       "        if (!dataTable) return;\n",
       "\n",
       "        const docLinkHtml = 'Like what you see? Visit the ' +\n",
       "          '<a target=\"_blank\" href=https://colab.research.google.com/notebooks/data_table.ipynb>data table notebook</a>'\n",
       "          + ' to learn more about interactive tables.';\n",
       "        element.innerHTML = '';\n",
       "        dataTable['output_type'] = 'display_data';\n",
       "        await google.colab.output.renderOutput(dataTable, element);\n",
       "        const docLink = document.createElement('div');\n",
       "        docLink.innerHTML = docLinkHtml;\n",
       "        element.appendChild(docLink);\n",
       "      }\n",
       "    </script>\n",
       "  </div>\n",
       "\n",
       "\n",
       "<div id=\"df-830ec4ab-1102-453c-86f3-c47889b52f3f\">\n",
       "  <button class=\"colab-df-quickchart\" onclick=\"quickchart('df-830ec4ab-1102-453c-86f3-c47889b52f3f')\"\n",
       "            title=\"Suggest charts\"\n",
       "            style=\"display:none;\">\n",
       "\n",
       "<svg xmlns=\"http://www.w3.org/2000/svg\" height=\"24px\"viewBox=\"0 0 24 24\"\n",
       "     width=\"24px\">\n",
       "    <g>\n",
       "        <path d=\"M19 3H5c-1.1 0-2 .9-2 2v14c0 1.1.9 2 2 2h14c1.1 0 2-.9 2-2V5c0-1.1-.9-2-2-2zM9 17H7v-7h2v7zm4 0h-2V7h2v10zm4 0h-2v-4h2v4z\"/>\n",
       "    </g>\n",
       "</svg>\n",
       "  </button>\n",
       "\n",
       "<style>\n",
       "  .colab-df-quickchart {\n",
       "      --bg-color: #E8F0FE;\n",
       "      --fill-color: #1967D2;\n",
       "      --hover-bg-color: #E2EBFA;\n",
       "      --hover-fill-color: #174EA6;\n",
       "      --disabled-fill-color: #AAA;\n",
       "      --disabled-bg-color: #DDD;\n",
       "  }\n",
       "\n",
       "  [theme=dark] .colab-df-quickchart {\n",
       "      --bg-color: #3B4455;\n",
       "      --fill-color: #D2E3FC;\n",
       "      --hover-bg-color: #434B5C;\n",
       "      --hover-fill-color: #FFFFFF;\n",
       "      --disabled-bg-color: #3B4455;\n",
       "      --disabled-fill-color: #666;\n",
       "  }\n",
       "\n",
       "  .colab-df-quickchart {\n",
       "    background-color: var(--bg-color);\n",
       "    border: none;\n",
       "    border-radius: 50%;\n",
       "    cursor: pointer;\n",
       "    display: none;\n",
       "    fill: var(--fill-color);\n",
       "    height: 32px;\n",
       "    padding: 0;\n",
       "    width: 32px;\n",
       "  }\n",
       "\n",
       "  .colab-df-quickchart:hover {\n",
       "    background-color: var(--hover-bg-color);\n",
       "    box-shadow: 0 1px 2px rgba(60, 64, 67, 0.3), 0 1px 3px 1px rgba(60, 64, 67, 0.15);\n",
       "    fill: var(--button-hover-fill-color);\n",
       "  }\n",
       "\n",
       "  .colab-df-quickchart-complete:disabled,\n",
       "  .colab-df-quickchart-complete:disabled:hover {\n",
       "    background-color: var(--disabled-bg-color);\n",
       "    fill: var(--disabled-fill-color);\n",
       "    box-shadow: none;\n",
       "  }\n",
       "\n",
       "  .colab-df-spinner {\n",
       "    border: 2px solid var(--fill-color);\n",
       "    border-color: transparent;\n",
       "    border-bottom-color: var(--fill-color);\n",
       "    animation:\n",
       "      spin 1s steps(1) infinite;\n",
       "  }\n",
       "\n",
       "  @keyframes spin {\n",
       "    0% {\n",
       "      border-color: transparent;\n",
       "      border-bottom-color: var(--fill-color);\n",
       "      border-left-color: var(--fill-color);\n",
       "    }\n",
       "    20% {\n",
       "      border-color: transparent;\n",
       "      border-left-color: var(--fill-color);\n",
       "      border-top-color: var(--fill-color);\n",
       "    }\n",
       "    30% {\n",
       "      border-color: transparent;\n",
       "      border-left-color: var(--fill-color);\n",
       "      border-top-color: var(--fill-color);\n",
       "      border-right-color: var(--fill-color);\n",
       "    }\n",
       "    40% {\n",
       "      border-color: transparent;\n",
       "      border-right-color: var(--fill-color);\n",
       "      border-top-color: var(--fill-color);\n",
       "    }\n",
       "    60% {\n",
       "      border-color: transparent;\n",
       "      border-right-color: var(--fill-color);\n",
       "    }\n",
       "    80% {\n",
       "      border-color: transparent;\n",
       "      border-right-color: var(--fill-color);\n",
       "      border-bottom-color: var(--fill-color);\n",
       "    }\n",
       "    90% {\n",
       "      border-color: transparent;\n",
       "      border-bottom-color: var(--fill-color);\n",
       "    }\n",
       "  }\n",
       "</style>\n",
       "\n",
       "  <script>\n",
       "    async function quickchart(key) {\n",
       "      const quickchartButtonEl =\n",
       "        document.querySelector('#' + key + ' button');\n",
       "      quickchartButtonEl.disabled = true;  // To prevent multiple clicks.\n",
       "      quickchartButtonEl.classList.add('colab-df-spinner');\n",
       "      try {\n",
       "        const charts = await google.colab.kernel.invokeFunction(\n",
       "            'suggestCharts', [key], {});\n",
       "      } catch (error) {\n",
       "        console.error('Error during call to suggestCharts:', error);\n",
       "      }\n",
       "      quickchartButtonEl.classList.remove('colab-df-spinner');\n",
       "      quickchartButtonEl.classList.add('colab-df-quickchart-complete');\n",
       "    }\n",
       "    (() => {\n",
       "      let quickchartButtonEl =\n",
       "        document.querySelector('#df-830ec4ab-1102-453c-86f3-c47889b52f3f button');\n",
       "      quickchartButtonEl.style.display =\n",
       "        google.colab.kernel.accessAllowed ? 'block' : 'none';\n",
       "    })();\n",
       "  </script>\n",
       "</div>\n",
       "    </div>\n",
       "  </div>\n"
      ],
      "text/plain": [
       "            Time        V1        V2        V3        V4        V5        V6  \\\n",
       "255752  157380.0  0.692634 -2.266007 -0.866940  1.752985 -1.284549 -0.008724   \n",
       "83053    59669.0  0.326007  1.286638 -2.007181  2.419675 -1.532902 -1.432803   \n",
       "263564  161013.0  1.881191 -0.539376 -0.650759  1.492958 -0.008160  1.061452   \n",
       "89190    62467.0 -5.344665 -0.285760 -3.835616  5.337048 -7.609909  3.874668   \n",
       "191359  129222.0  1.177824  2.487103 -5.330608  5.324547  1.150243 -1.281843   \n",
       "\n",
       "              V7        V8        V9  ...       V21       V22       V23  \\\n",
       "255752  0.158276  0.009030  0.754630  ...  0.652014  0.526688 -0.392914   \n",
       "83053  -2.459530  0.617738 -1.125861  ...  0.556895  0.169776 -0.174357   \n",
       "263564 -0.844053  0.374834 -0.160030  ...  0.115390  0.065928  0.170670   \n",
       "89190   1.289630  0.201742 -3.003532  ...  0.276011  1.342045 -1.016579   \n",
       "191359 -1.171994  0.413778 -2.659840  ...  0.262325 -0.431790 -0.092088   \n",
       "\n",
       "             V24       V25       V26       V27       V28   Amount  Class  \n",
       "255752  0.000291 -0.417081 -0.643725 -0.069721  0.066489   631.00      0  \n",
       "83053   0.308061  0.710996 -0.231030  0.580495  0.300984     6.27      1  \n",
       "263564 -0.300133 -0.724339  2.252463 -0.190619 -0.070636    71.95      0  \n",
       "89190  -0.071361 -0.335869  0.441044  1.520613 -1.115937  1402.16      1  \n",
       "191359  0.145216  0.457788  0.167739  0.451243  0.268421     4.87      1  \n",
       "\n",
       "[5 rows x 31 columns]"
      ]
     },
     "execution_count": 14,
     "metadata": {},
     "output_type": "execute_result"
    }
   ],
   "source": [
    "# Поскольку наши классы сильно не сбалансированы, мы должны сделать их эквивалентными,\n",
    "# чтобы получить нормальное распределение классов.\n",
    "\n",
    "# Перемешаем данные перед созданием подвыборок\n",
    "\n",
    "df = df.sample(frac=1)\n",
    "\n",
    "fraud_df = df.loc[df['Class'] == 1]\n",
    "non_fraud_df = df.loc[df['Class'] == 0][:492] # берем первые 492 транзакции\n",
    "\n",
    "normal_distributed_df = pd.concat([fraud_df, non_fraud_df])\n",
    "\n",
    "# Перемешивание строк датасета\n",
    "new_df = normal_distributed_df.sample(frac=1, random_state=42)\n",
    "\n",
    "new_df.head()"
   ]
  },
  {
   "cell_type": "code",
   "execution_count": 18,
   "metadata": {
    "id": "pCPscEG3D1m3"
   },
   "outputs": [],
   "source": [
    "# сохраняем полученый набор данных\n",
    "new_df.to_csv(\"/content/drive/MyDrive/data/creditcard_rejected.csv\")"
   ]
  },
  {
   "cell_type": "code",
   "execution_count": 17,
   "metadata": {
    "colab": {
     "base_uri": "https://localhost:8080/"
    },
    "id": "2fqeYEVm6Rwi",
    "outputId": "94ca3a55-2197-4080-994d-911f162b8165"
   },
   "outputs": [
    {
     "data": {
      "text/plain": [
       "(984, 31)"
      ]
     },
     "execution_count": 17,
     "metadata": {},
     "output_type": "execute_result"
    }
   ],
   "source": [
    "new_df.shape"
   ]
  },
  {
   "cell_type": "code",
   "execution_count": null,
   "metadata": {
    "_cell_guid": "73454100-dc69-49fd-b1b2-f72e326bca5d",
    "_kg_hide-input": true,
    "_uuid": "68b42e92df59f10fbd3ba700389796c4506af604",
    "colab": {
     "base_uri": "https://localhost:8080/",
     "height": 488
    },
    "id": "qMu1vXD8Jsmo",
    "outputId": "6c1ecdbd-e8e4-4083-b909-5d8d4f25cf0c"
   },
   "outputs": [
    {
     "name": "stdout",
     "output_type": "stream",
     "text": [
      "Распределение классов в подвыборке\n"
     ]
    },
    {
     "data": {
      "text/plain": [
       "Text(0.5, 1.0, 'Распределение классов')"
      ]
     },
     "execution_count": 19,
     "metadata": {},
     "output_type": "execute_result"
    },
    {
     "data": {
      "image/png": "[encoded data removed]",
      "text/plain": [
       "<Figure size 640x480 with 1 Axes>"
      ]
     },
     "metadata": {},
     "output_type": "display_data"
    }
   ],
   "source": [
    "print('Распределение классов в подвыборке')\n",
    "\n",
    "sns.countplot()\n",
    "# проверяем снова распределение целевой переменной\n",
    "\n",
    "plt.title('Распределение классов', fontsize=14)\n"
   ]
  },
  {
   "cell_type": "markdown",
   "metadata": {
    "_cell_guid": "0abc31ee-a78e-43af-822f-f06772d00c1c",
    "_uuid": "88477bac6687f110e9d64ec22837c250d85d2a2b",
    "id": "SOzfVf3oJsmp"
   },
   "source": [
    "### Матрица корреляций\n",
    "\n",
    "Корреляционные матрицы очень важны для понимания данных. Мы хотим узнать, есть ли признаки, которые оказывают сильное влияние на то, является ли конкретная транзакция мошенничеством. Однако важно, чтобы мы использовали сбалансированную подвыборку, чтобы увидеть, какие признаки имеют высокую положительную или отрицательную корреляцию в отношении мошеннических операций.\n"
   ]
  },
  {
   "cell_type": "code",
   "execution_count": null,
   "metadata": {
    "_cell_guid": "9f353623-9435-4bb2-b854-b4a201ec7dd9",
    "_kg_hide-input": true,
    "_uuid": "e2f417c5d7c633a1e3cdfaa78acd6bd77a38400e",
    "colab": {
     "base_uri": "https://localhost:8080/",
     "height": 834
    },
    "id": "q15z0KtAJsmp",
    "outputId": "3c118eed-c74a-46bd-a902-e7487ea3df27"
   },
   "outputs": [
    {
     "data": {
      "text/plain": [
       "Text(0.5, 1.0, 'Матрица корреляций сбалансированной подвыборки')"
      ]
     },
     "execution_count": 20,
     "metadata": {},
     "output_type": "execute_result"
    },
    {
     "data": {
      "image/png": "[encoded data removed]",
      "text/plain": [
       "<Figure size 2000x2400 with 1 Axes>"
      ]
     },
     "metadata": {},
     "output_type": "display_data"
    }
   ],
   "source": [
    "f, ax = plt.subplots(1, 1, figsize=(20, 24))\n",
    "\n",
    "# Построим матрицу корреляций\n",
    "sns.heatmap(new_df.corr(numeric_only = True), annot=True)\n",
    "\n",
    "ax.set_title('Матрица корреляций сбалансированной подвыборки', fontsize=14)\n",
    "plt.show()"
   ]
  },
  {
   "cell_type": "markdown",
   "metadata": {
    "id": "b2fy5lHXl9z8"
   },
   "source": [
    "### Выводы:\n",
    "<ul>\n",
    "<li><b>Отрицательные корреляции: </b> Какие признаки  имеют отрицательную корреляцию? \n",
    "\n",
    "<b>v10, v12, v14, v17 </b>\n",
    "\n",
    "Другими словами, чем ниже эти значения, тем больше вероятность того, что конечным результатом будет мошенническая операция.  </li>\n",
    "<li> <b> Положительные корреляции: </b> Какие признаки  положительно коррелируют? \n",
    "\n",
    "<b>v2, v4, v11, v19 </b>\n",
    "\n",
    "То есть, чем выше эти значения, тем больше вероятность того, что конечным результатом будет мошенническая операция. </li>\n",
    "</ul>\n",
    "\n",
    "\n",
    "**Важно!**\n",
    "\n",
    "Всегда проверяйте, используете ли вы сбалансированную подвыборку в корреляционной матрице, иначе на корреляционную матрицу повлияет сильный дисбаланс между классами."
   ]
  },
  {
   "cell_type": "markdown",
   "metadata": {
    "id": "4QvWyUaXHDwI"
   },
   "source": [
    "Построим теперь Boxplot."
   ]
  },
  {
   "cell_type": "code",
   "execution_count": null,
   "metadata": {
    "_cell_guid": "2f02c21f-daa3-4251-a8e9-acad09a5ce0f",
    "_kg_hide-input": true,
    "_uuid": "318d0e7e0443f99139be21c00a7abc663be26385",
    "id": "6uLCKXNWJsmp"
   },
   "outputs": [],
   "source": [
    "f, axes = plt.subplots(ncols=4, figsize=(20,4))\n",
    "\n",
    "# Отрицательные корреляции\n",
    "#\n",
    "sns.boxplot(x='Class', y='V10', data=new_df, ax=axes[0])\n",
    "axes[0].set_title('V10 и Class, негатинвая корреляция')\n",
    "#\n",
    "sns.boxplot(x='Class', y='V12', data=new_df, ax=axes[1])\n",
    "axes[1].set_title('V12 и Class, негатинвая корреляция')\n",
    "#\n",
    "sns.boxplot(x='Class', y='V14', data=new_df, ax=axes[2])\n",
    "axes[2].set_title('V14 и Class, негатинвая корреляция')\n",
    "#\n",
    "sns.boxplot(x='Class', y='V17', data=new_df, ax=axes[3])\n",
    "axes[3].set_title('V17 и Class, негатинвая корреляция')"
   ]
  },
  {
   "cell_type": "code",
   "execution_count": null,
   "metadata": {
    "_cell_guid": "b457b10e-c17c-4cb2-9719-6d4128377c9f",
    "_kg_hide-input": true,
    "_uuid": "7bfc46c028f8602ee949de83629082633aa47b2c",
    "colab": {
     "base_uri": "https://localhost:8080/",
     "height": 166
    },
    "id": "8fDxO2ggJsmq",
    "outputId": "50b6aade-2355-4b81-82db-6c221cbb2b33"
   },
   "outputs": [
    {
     "data": {
      "image/png": "[encoded data removed]",
      "text/plain": [
       "<Figure size 2000x400 with 4 Axes>"
      ]
     },
     "metadata": {},
     "output_type": "display_data"
    }
   ],
   "source": [
    "f, axes = plt.subplots(ncols=4, figsize=(20,4))\n",
    "\n",
    "# Положительные корреляции\n",
    "#\n",
    "sns.boxplot(x='Class', y='V2', data=new_df, ax=axes[0])\n",
    "axes[0].set_title('V2 и Class, положительная корреляция')\n",
    "#\n",
    "sns.boxplot(x='Class', y='V4', data=new_df, ax=axes[1])\n",
    "axes[1].set_title('V4 и Class, негатинвая корреляция')\n",
    "#\n",
    "sns.boxplot(x='Class', y='V11', data=new_df, ax=axes[2])\n",
    "axes[2].set_title('V11 и Class, негатинвая корреляция')\n",
    "#\n",
    "sns.boxplot(x='Class', y='V19', data=new_df, ax=axes[3])\n",
    "axes[3].set_title('V19 и Class, негатинвая корреляция')\n"
   ]
  },
  {
   "cell_type": "markdown",
   "metadata": {
    "id": "XeHndBySf2R5"
   },
   "source": [
    "# Какие выводы можно сделать по построенным Boxplot?\n",
    "\n",
    "Напоминаю.\n",
    "\n",
    "0 - это не мошеннические транзакции\n",
    "\n",
    "1 - мошеннические транзакции"
   ]
  },
  {
   "cell_type": "markdown",
   "metadata": {
    "_cell_guid": "93e56c89-185e-40d2-9ccc-29b123feb5a6",
    "_uuid": "a721282c0f44ec8030bbad6d0220091bde8cbec8",
    "id": "OYZUfEFjJsmq"
   },
   "source": [
    "## Обработка выбросов\n",
    "\n",
    "Наша основная цель в этом разделе - удалить выбросы из признаков, которые имеют высокую корреляцию с целевой переменной. Это положительно скажется на точности наших моделей.\n",
    "\n",
    "\n",
    "### Метод межквартильного размаха:\n",
    "<ul>\n",
    "<li> <b>Interquartile Range (IQR): </b> Рассчитываем разницу между 75-м процентилем и 25-м процентилем. Наша цель - создать порог за пределами 75-го и 25-го процентилей, чтобы в случае, если какой-то экземпляр выборки преодолеет этот порог, он был удален.  </li>\n",
    "<li> <b>Построить Boxplots: </b> С помощью boxplot легко увидеть 25-й и 75-й процентили и выбросы. </li>\n",
    "</ul>\n",
    "\n",
    "Надо быть внимательным к тому, как далеко мы хотим установить порог для удаления выбросов. Мы определяем порог путем умножения числа (например, 1.5) на интерквартильный размах. Чем выше этот порог, тем меньше выбросов будет обнаружено, а чем ниже этот порог, тем больше выбросов будет обнаружено.  <br><br>\n",
    "\n",
    "Мы хотим больше сосредоточиться именно на сильных выбросах, а не просто на выбросах. Почему? Потому что удалив все выбросы, мы можем столкнуться с риском потери информации, что приведет к снижению точности наших моделей.\n",
    "\n",
    "\n",
    "### Итого:\n",
    "<ul>\n",
    "<li> <b> Строим распределения </b>  </li>\n",
    "<li><b>Определяем порог </b> </li>\n",
    "<li> <b>Удаляем выбросы </b> </li>\n",
    "<li> <b> Строим Boxplot </b> </li>\n",
    "</ul>"
   ]
  },
  {
   "cell_type": "code",
   "execution_count": 22,
   "metadata": {
    "_cell_guid": "9c690dfa-8fed-44e5-99f5-ff4eb6f87f16",
    "_kg_hide-input": true,
    "_uuid": "b6963900379db5b0d4adf92f8c7f959164e9119f",
    "colab": {
     "base_uri": "https://localhost:8080/",
     "height": 230
    },
    "id": "CsdgORD0Jsmq",
    "outputId": "5d08602b-c038-4039-cc90-442bf457d115"
   },
   "outputs": [
    {
     "data": {
      "image/png": "[encoded data removed]",
      "text/plain": [
       "<Figure size 2000x600 with 4 Axes>"
      ]
     },
     "metadata": {},
     "output_type": "display_data"
    }
   ],
   "source": [
    "# Строим распределения для признаков с отрицательной корреляцией\n",
    "\n",
    "from scipy.stats import norm\n",
    "\n",
    "f, (ax1, ax2, ax3, ax4) = plt.subplots(1,4, figsize=(20, 6))\n",
    "\n",
    "####\n",
    "\n",
    "\n",
    "####\n",
    "\n",
    "\n",
    "####\n",
    "\n",
    "\n",
    "####\n",
    "\n"
   ]
  },
  {
   "cell_type": "code",
   "execution_count": null,
   "metadata": {
    "_cell_guid": "2e19fe33-f85a-4ffd-8e4a-807d0e0fb992",
    "_kg_hide-input": true,
    "_uuid": "21e43406e62a9561fba2f065ce15a8d87a1bf389",
    "id": "Kc0HaAvtJsmq"
   },
   "outputs": [],
   "source": [
    "# Удаление выбросов из признака V17\n",
    "v17_fraud = new_df['V17'].loc[new_df['Class'] == 1].values\n",
    "q25, q75 = np.percentile(v17_fraud, 25), np.percentile(v17_fraud, 75)\n",
    "print('Квартиль 25: {} | Квартиль 75: {}'.format(q25, q75))\n",
    "v17_iqr = q75 - q25\n",
    "print('iqr: {}'.format(v17_iqr))\n",
    "\n",
    "v17_cut_off = v17_iqr * 1.5\n",
    "v17_lower, v17_upper = q25 - v17_cut_off, q75 + v17_cut_off\n",
    "print('Порог: {}'.format(v17_cut_off))\n",
    "print('V17 нижняя граница: {}'.format(v17_lower))\n",
    "print('V17 верхняя граница: {}'.format(v17_upper))\n",
    "\n",
    "outliers = [x for x in v17_fraud if x < v17_lower or x > v17_upper]\n",
    "print('Количество выбросов: {}'.format(len(outliers)))\n",
    "\n",
    "new_df_without_outliers  = new_df.drop(new_df[(new_df['V17'] > v17_upper) | (new_df['V17'] < v17_lower)].index)\n",
    "print('----' * 44)\n",
    "\n",
    "\n",
    "\n",
    "#### Для остальных признаков на основе V17 описать функцию, в качастве параметра которой будут вытупать выбросы других признаков\n",
    "### Написать вызов функции по нужным признакам"
   ]
  },
  {
   "cell_type": "code",
   "execution_count": null,
   "metadata": {
    "_cell_guid": "66e44398-7c91-4cce-9778-4512cb838973",
    "_kg_hide-input": true,
    "_uuid": "ac80d9cfb07f1865094a8d460ae801750e93d694",
    "id": "4EcVoog7Jsmr"
   },
   "outputs": [],
   "source": [
    "f, ax = plt.subplots(4, 2, figsize=(20,40))\n",
    "\n",
    "colors = ['#B3F9C5', '#f9c5b3']\n",
    "\n",
    "# Boxplot для признака V17 после удаления выбросов\n",
    "\n",
    "\n",
    "# Boxplot для признака V17 до удаления выбросов\n",
    "\n",
    "\n",
    "# И для остальных признаков тоже\n",
    "\n",
    "\n",
    "\n",
    "plt.show()"
   ]
  },
  {
   "cell_type": "code",
   "execution_count": null,
   "metadata": {
    "id": "Vekk1zSnCk85"
   },
   "outputs": [],
   "source": [
    "# теперь у нас в датафрейме new_df будут лежать данные без выбросов.\n",
    "\n",
    "new_df = new_df_without_outliers"
   ]
  },
  {
   "cell_type": "markdown",
   "metadata": {
    "_cell_guid": "74903f3b-dc6b-40ba-abc8-86c3df5ca46e",
    "_uuid": "0b365b10bd363c23068accc448509ced879f1670",
    "id": "mKlvt3JaJsmr"
   },
   "source": [
    "### Понижение размерности и кластеризация\n",
    "\n",
    "Для того, чтобы убедиться, что наши классы являются разделимыми (иначе строить модели нет смысла), выполним понижение размерности с помощью трех различных техник понижения размерности.\n",
    "\n"
   ]
  },
  {
   "cell_type": "code",
   "execution_count": null,
   "metadata": {
    "id": "tj5rX1-W2ENj"
   },
   "outputs": [],
   "source": []
  },
  {
   "cell_type": "code",
   "execution_count": 23,
   "metadata": {
    "_cell_guid": "f83cde6b-90d0-4e9d-ac63-fb69780431b2",
    "_kg_hide-input": true,
    "_uuid": "af3027e7df67b75c92c88d597003632e285c9bff",
    "colab": {
     "base_uri": "https://localhost:8080/"
    },
    "id": "9qG6k2Qa2Ewq",
    "outputId": "ab11590d-345e-44be-cb63-c3dd0d5e70d2"
   },
   "outputs": [
    {
     "name": "stdout",
     "output_type": "stream",
     "text": [
      "T-SNE заняло 5.3e-05 сек\n",
      "PCA заняло 4.3e-05 сек\n",
      "Truncated SVD заняло 3.8e-05 сек\n"
     ]
    }
   ],
   "source": [
    "from sklearn.manifold import TSNE\n",
    "from sklearn.decomposition import PCA, TruncatedSVD\n",
    "\n",
    "X = new_df.drop('Class', axis=1)\n",
    "y = new_df['Class']\n",
    "\n",
    "X.drop(['Time','Amount'], axis=1, inplace=True) # Tак как Time и Amount не коррелируют почти с таргетом\n",
    "\n",
    "\n",
    "# T-SNE алгоритм\n",
    "t0 = time.time()\n",
    "X_reduced_tsne = ...\n",
    "# ВАШ КОД ЗДЕСЬ\n",
    "t1 = time.time()\n",
    "print(\"T-SNE заняло {:.2} сек\".format(t1 - t0))\n",
    "\n",
    "# PCA алгоритм\n",
    "t0 = time.time()\n",
    "# ВАШ КОД ЗДЕСЬ\n",
    "X_reduced_pca = ...\n",
    "t1 = time.time()\n",
    "print(\"PCA заняло {:.2} сек\".format(t1 - t0))\n",
    "\n",
    "# TruncatedSVD алгоритм\n",
    "t0 = time.time()\n",
    "# ВАШ КОД ЗДЕСЬ\n",
    "X_reduced_svd = ...\n",
    "t1 = time.time()\n",
    "print(\"Truncated SVD заняло {:.2} сек\".format(t1 - t0))"
   ]
  },
  {
   "cell_type": "code",
   "execution_count": 24,
   "metadata": {
    "_cell_guid": "07015ae5-f7ac-4d64-8f41-1e4b7c9dd2ac",
    "_kg_hide-input": true,
    "_uuid": "084f2a7421c2212082491d2a90e65d65c52b434a",
    "colab": {
     "base_uri": "https://localhost:8080/",
     "height": 443
    },
    "id": "FQYoiWnnJsms",
    "outputId": "ed6ca9a7-a126-4e58-df73-f77dfc5ecf29"
   },
   "outputs": [
    {
     "ename": "TypeError",
     "evalue": "'ellipsis' object is not subscriptable",
     "output_type": "error",
     "traceback": [
      "\u001b[0;31m---------------------------------------------------------------------------\u001b[0m",
      "\u001b[0;31mTypeError\u001b[0m                                 Traceback (most recent call last)",
      "\u001b[0;32m<ipython-input-24-f772efa3098b>\u001b[0m in \u001b[0;36m<cell line: 10>\u001b[0;34m()\u001b[0m\n\u001b[1;32m      8\u001b[0m \u001b[0;34m\u001b[0m\u001b[0m\n\u001b[1;32m      9\u001b[0m \u001b[0;31m# t-SNE scatter plot\u001b[0m\u001b[0;34m\u001b[0m\u001b[0;34m\u001b[0m\u001b[0m\n\u001b[0;32m---> 10\u001b[0;31m \u001b[0max1\u001b[0m\u001b[0;34m.\u001b[0m\u001b[0mscatter\u001b[0m\u001b[0;34m(\u001b[0m\u001b[0mX_reduced_tsne\u001b[0m\u001b[0;34m[\u001b[0m\u001b[0;34m:\u001b[0m\u001b[0;34m,\u001b[0m\u001b[0;36m0\u001b[0m\u001b[0;34m]\u001b[0m\u001b[0;34m,\u001b[0m \u001b[0mX_reduced_tsne\u001b[0m\u001b[0;34m[\u001b[0m\u001b[0;34m:\u001b[0m\u001b[0;34m,\u001b[0m\u001b[0;36m1\u001b[0m\u001b[0;34m]\u001b[0m\u001b[0;34m,\u001b[0m \u001b[0mc\u001b[0m\u001b[0;34m=\u001b[0m\u001b[0;34m(\u001b[0m\u001b[0my\u001b[0m \u001b[0;34m==\u001b[0m \u001b[0;36m0\u001b[0m\u001b[0;34m)\u001b[0m\u001b[0;34m,\u001b[0m \u001b[0mcmap\u001b[0m\u001b[0;34m=\u001b[0m\u001b[0;34m'coolwarm'\u001b[0m\u001b[0;34m,\u001b[0m \u001b[0mlabel\u001b[0m\u001b[0;34m=\u001b[0m\u001b[0;34m'Non Fraud'\u001b[0m\u001b[0;34m,\u001b[0m \u001b[0mlinewidths\u001b[0m\u001b[0;34m=\u001b[0m\u001b[0;36m2\u001b[0m\u001b[0;34m)\u001b[0m\u001b[0;34m\u001b[0m\u001b[0;34m\u001b[0m\u001b[0m\n\u001b[0m\u001b[1;32m     11\u001b[0m \u001b[0max1\u001b[0m\u001b[0;34m.\u001b[0m\u001b[0mscatter\u001b[0m\u001b[0;34m(\u001b[0m\u001b[0mX_reduced_tsne\u001b[0m\u001b[0;34m[\u001b[0m\u001b[0;34m:\u001b[0m\u001b[0;34m,\u001b[0m\u001b[0;36m0\u001b[0m\u001b[0;34m]\u001b[0m\u001b[0;34m,\u001b[0m \u001b[0mX_reduced_tsne\u001b[0m\u001b[0;34m[\u001b[0m\u001b[0;34m:\u001b[0m\u001b[0;34m,\u001b[0m\u001b[0;36m1\u001b[0m\u001b[0;34m]\u001b[0m\u001b[0;34m,\u001b[0m \u001b[0mc\u001b[0m\u001b[0;34m=\u001b[0m\u001b[0;34m(\u001b[0m\u001b[0my\u001b[0m \u001b[0;34m==\u001b[0m \u001b[0;36m1\u001b[0m\u001b[0;34m)\u001b[0m\u001b[0;34m,\u001b[0m \u001b[0mcmap\u001b[0m\u001b[0;34m=\u001b[0m\u001b[0;34m'coolwarm'\u001b[0m\u001b[0;34m,\u001b[0m \u001b[0mlabel\u001b[0m\u001b[0;34m=\u001b[0m\u001b[0;34m'Fraud'\u001b[0m\u001b[0;34m,\u001b[0m \u001b[0mlinewidths\u001b[0m\u001b[0;34m=\u001b[0m\u001b[0;36m2\u001b[0m\u001b[0;34m)\u001b[0m\u001b[0;34m\u001b[0m\u001b[0;34m\u001b[0m\u001b[0m\n\u001b[1;32m     12\u001b[0m \u001b[0max1\u001b[0m\u001b[0;34m.\u001b[0m\u001b[0mset_title\u001b[0m\u001b[0;34m(\u001b[0m\u001b[0;34m't-SNE'\u001b[0m\u001b[0;34m,\u001b[0m \u001b[0mfontsize\u001b[0m\u001b[0;34m=\u001b[0m\u001b[0;36m14\u001b[0m\u001b[0;34m)\u001b[0m\u001b[0;34m\u001b[0m\u001b[0;34m\u001b[0m\u001b[0m\n",
      "\u001b[0;31mTypeError\u001b[0m: 'ellipsis' object is not subscriptable"
     ]
    },
    {
     "data": {
      "image/png": "[encoded data removed]",
      "text/plain": [
       "<Figure size 2400x600 with 3 Axes>"
      ]
     },
     "metadata": {},
     "output_type": "display_data"
    }
   ],
   "source": [
    "f, (ax1, ax2, ax3) = plt.subplots(1, 3, figsize=(24,6))\n",
    "f.suptitle('Кластеризация после понижения размерности', fontsize=14)\n",
    "\n",
    "\n",
    "blue_patch = mpatches.Patch(color='#0A0AFF', label='Non Fraud')\n",
    "red_patch = mpatches.Patch(color='#AF0000', label='Fraud')\n",
    "\n",
    "\n",
    "# t-SNE scatter plot\n",
    "ax1.scatter(X_reduced_tsne[:,0], X_reduced_tsne[:,1], c=(y == 0), cmap='coolwarm', label='Non Fraud', linewidths=2)\n",
    "ax1.scatter(X_reduced_tsne[:,0], X_reduced_tsne[:,1], c=(y == 1), cmap='coolwarm', label='Fraud', linewidths=2)\n",
    "ax1.set_title('t-SNE', fontsize=14)\n",
    "\n",
    "ax1.grid(True)\n",
    "\n",
    "ax1.legend(handles=[blue_patch, red_patch])\n",
    "\n",
    "\n",
    "# PCA scatter plot\n",
    "\n",
    "\n",
    "# TruncatedSVD scatter plot\n",
    "\n",
    "\n",
    "plt.show()"
   ]
  },
  {
   "cell_type": "markdown",
   "metadata": {
    "id": "3qPicQ3zyaLU"
   },
   "source": [
    "<h3> Выводы: </h3>\n",
    "<ul>\n",
    "<li>Алгоритм t-SNE может довольно точно кластеризовать случаи мошенничества и не мошенничества в нашем наборе данных. </li>\n",
    "<li> Классы целевой переменной однозначно разделимы, а значит мы можем строить модели! </li>\n",
    "</ul>"
   ]
  },
  {
   "cell_type": "markdown",
   "metadata": {
    "_cell_guid": "cb2c480a-090a-4cfb-b12e-3b74c325826c",
    "_uuid": "1b63bfd92008043cc1a336f924c835e73792f6d8",
    "id": "n0_t06tjJsms"
   },
   "source": [
    "## Продолжение следует .....\n",
    "\n"
   ]
  },
  {
   "cell_type": "markdown",
   "metadata": {
    "id": "NS5B95BVl50I"
   },
   "source": [
    "<h3 style=\"text-align: center;\">Материалы для изучения scikit-learn:<b></b></h3>\n",
    "\n",
    "*1) Официальный сайт с подробными описаниями моделей и методов : https://scikit-learn.org/stable/user_guide.html*\n",
    "\n",
    "*2) Полезный репозиторий с блокнотами: https://github.com/gmonce/scikit-learn-book*\n",
    "\n",
    "*3) Хороший курс с упражнениями: https://inria.github.io/scikit-learn-mooc/*"
   ]
  },
  {
   "cell_type": "code",
   "execution_count": null,
   "metadata": {
    "id": "X5aAlN2IA3C9"
   },
   "outputs": [],
   "source": [
    "new_df.to_csv('/content/drive/MyDrive/Colab Notebooks/data/creditcard_short.csv')"
   ]
  }
 ],
 "metadata": {
  "colab": {
   "provenance": []
  },
  "kernelspec": {
   "display_name": "Python 3",
   "name": "python3"
  },
  "language_info": {
   "codemirror_mode": {
    "name": "ipython",
    "version": 3
   },
   "file_extension": ".py",
   "mimetype": "text/x-python",
   "name": "python",
   "nbconvert_exporter": "python",
   "pygments_lexer": "ipython3",
   "version": "3.6.6"
  }
 },
 "nbformat": 4,
 "nbformat_minor": 0
}
